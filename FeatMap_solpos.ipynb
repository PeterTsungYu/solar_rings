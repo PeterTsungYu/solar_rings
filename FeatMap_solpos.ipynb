{
 "cells": [
  {
   "cell_type": "markdown",
   "metadata": {},
   "source": [
    "Ref:\n",
    "1. SOLPOS online Calc\n",
    "    https://midcdmz.nrel.gov/solpos/solpos.html\n",
    "2. Compare the effect of different scalers on data with outliers\n",
    "    https://scikit-learn.org/stable/auto_examples/preprocessing/plot_all_scaling.html\n",
    "3. Specifying and saving a figure with exact size in pixels\n",
    "    https://stackoverflow.com/questions/13714454/specifying-and-saving-a-figure-with-exact-size-in-pixels\n",
    "4. Your DPI calc\n",
    "    https://www.infobyip.com/detectmonitordpi.php"
   ]
  },
  {
   "cell_type": "code",
   "execution_count": 1,
   "metadata": {
    "scrolled": true
   },
   "outputs": [
    {
     "name": "stderr",
     "output_type": "stream",
     "text": [
      "/opt/conda/lib/python3.7/site-packages/geopandas/_compat.py:88: UserWarning: The Shapely GEOS version (3.8.0-CAPI-1.13.1 ) is incompatible with the GEOS version PyGEOS was compiled with (3.8.1-CAPI-1.13.3). Conversions between both will be slow.\n",
      "  shapely_geos_version, geos_capi_version_string\n"
     ]
    }
   ],
   "source": [
    "import numpy as np\n",
    "import pandas as pd\n",
    "import matplotlib.pyplot as plt\n",
    "import geopandas as gp\n",
    "import descartes\n",
    "from shapely.geometry import Polygon\n",
    "from sklearn.preprocessing import MinMaxScaler\n",
    "import cv2"
   ]
  },
  {
   "cell_type": "code",
   "execution_count": 2,
   "metadata": {},
   "outputs": [],
   "source": [
    "taiwan_grid = gp.read_file(\"./MapData/taiwan_grid.shp\")\n",
    "taiwan_offgrid = gp.read_file(\"./MapData/taiwan_offgrid.shp\")\n",
    "\n",
    "assert taiwan_grid.crs == 'epsg:3824' \n",
    "assert taiwan_offgrid.crs == 'epsg:3824' "
   ]
  },
  {
   "cell_type": "code",
   "execution_count": 3,
   "metadata": {},
   "outputs": [
    {
     "name": "stderr",
     "output_type": "stream",
     "text": [
      "/opt/conda/lib/python3.7/site-packages/ipykernel_launcher.py:1: UserWarning: Geometry is in a geographic CRS. Results from 'centroid' are likely incorrect. Use 'GeoSeries.to_crs()' to re-project geometries to a projected CRS before this operation.\n",
      "\n",
      "  \"\"\"Entry point for launching an IPython kernel.\n"
     ]
    },
    {
     "data": {
      "image/png": "[encoded data removed]",
      "text/plain": [
       "<Figure size 360x360 with 1 Axes>"
      ]
     },
     "metadata": {
      "needs_background": "light"
     },
     "output_type": "display_data"
    }
   ],
   "source": [
    "centroid = taiwan_grid['geometry'].centroid\n",
    "\n",
    "fig, ax = plt.subplots(figsize=(5, 5))\n",
    "taiwan_grid.boundary.plot(ax=ax, color='b', alpha=0.4, zorder=2)\n",
    "centroid.plot(ax=ax, zorder=1)\n",
    "plt.show()"
   ]
  },
  {
   "cell_type": "code",
   "execution_count": 4,
   "metadata": {},
   "outputs": [],
   "source": [
    "# x: longitude\n",
    "# y: latitude\n",
    "location = [[x,y]for x,y in zip(centroid.x, centroid.y)]\n",
    "#print(location)"
   ]
  },
  {
   "cell_type": "code",
   "execution_count": 5,
   "metadata": {},
   "outputs": [
    {
     "data": {
      "text/html": [
       "<div>\n",
       "<style scoped>\n",
       "    .dataframe tbody tr th:only-of-type {\n",
       "        vertical-align: middle;\n",
       "    }\n",
       "\n",
       "    .dataframe tbody tr th {\n",
       "        vertical-align: top;\n",
       "    }\n",
       "\n",
       "    .dataframe thead th {\n",
       "        text-align: right;\n",
       "    }\n",
       "</style>\n",
       "<table border=\"1\" class=\"dataframe\">\n",
       "  <thead>\n",
       "    <tr style=\"text-align: right;\">\n",
       "      <th></th>\n",
       "      <th>FID</th>\n",
       "      <th>geometry</th>\n",
       "      <th>ETR_Global</th>\n",
       "    </tr>\n",
       "  </thead>\n",
       "  <tbody>\n",
       "    <tr>\n",
       "      <th>0</th>\n",
       "      <td>0</td>\n",
       "      <td>MULTIPOLYGON (((120.12691 23.65000, 120.50333 ...</td>\n",
       "      <td>1.026664</td>\n",
       "    </tr>\n",
       "    <tr>\n",
       "      <th>1</th>\n",
       "      <td>1</td>\n",
       "      <td>POLYGON ((120.05167 23.05000, 120.50333 23.050...</td>\n",
       "      <td>1.438569</td>\n",
       "    </tr>\n",
       "    <tr>\n",
       "      <th>2</th>\n",
       "      <td>2</td>\n",
       "      <td>MULTIPOLYGON (((120.44651 22.45000, 120.50333 ...</td>\n",
       "      <td>1.739976</td>\n",
       "    </tr>\n",
       "    <tr>\n",
       "      <th>3</th>\n",
       "      <td>3</td>\n",
       "      <td>POLYGON ((120.50333 23.65000, 120.63506 23.650...</td>\n",
       "      <td>1.018441</td>\n",
       "    </tr>\n",
       "    <tr>\n",
       "      <th>4</th>\n",
       "      <td>4</td>\n",
       "      <td>POLYGON ((120.50333 23.05000, 121.03667 23.050...</td>\n",
       "      <td>1.471604</td>\n",
       "    </tr>\n",
       "    <tr>\n",
       "      <th>5</th>\n",
       "      <td>5</td>\n",
       "      <td>POLYGON ((120.50333 22.45000, 120.94334 22.450...</td>\n",
       "      <td>1.866568</td>\n",
       "    </tr>\n",
       "    <tr>\n",
       "      <th>6</th>\n",
       "      <td>6</td>\n",
       "      <td>POLYGON ((121.03667 23.65000, 121.23044 23.650...</td>\n",
       "      <td>1.000000</td>\n",
       "    </tr>\n",
       "    <tr>\n",
       "      <th>7</th>\n",
       "      <td>7</td>\n",
       "      <td>MULTIPOLYGON (((121.03667 23.05000, 121.34454 ...</td>\n",
       "      <td>1.360473</td>\n",
       "    </tr>\n",
       "    <tr>\n",
       "      <th>8</th>\n",
       "      <td>8</td>\n",
       "      <td>MULTIPOLYGON (((121.57000 22.08694, 121.57000 ...</td>\n",
       "      <td>2.000000</td>\n",
       "    </tr>\n",
       "  </tbody>\n",
       "</table>\n",
       "</div>"
      ],
      "text/plain": [
       "   FID                                           geometry  ETR_Global\n",
       "0    0  MULTIPOLYGON (((120.12691 23.65000, 120.50333 ...    1.026664\n",
       "1    1  POLYGON ((120.05167 23.05000, 120.50333 23.050...    1.438569\n",
       "2    2  MULTIPOLYGON (((120.44651 22.45000, 120.50333 ...    1.739976\n",
       "3    3  POLYGON ((120.50333 23.65000, 120.63506 23.650...    1.018441\n",
       "4    4  POLYGON ((120.50333 23.05000, 121.03667 23.050...    1.471604\n",
       "5    5  POLYGON ((120.50333 22.45000, 120.94334 22.450...    1.866568\n",
       "6    6  POLYGON ((121.03667 23.65000, 121.23044 23.650...    1.000000\n",
       "7    7  MULTIPOLYGON (((121.03667 23.05000, 121.34454 ...    1.360473\n",
       "8    8  MULTIPOLYGON (((121.57000 22.08694, 121.57000 ...    2.000000"
      ]
     },
     "execution_count": 5,
     "metadata": {},
     "output_type": "execute_result"
    }
   ],
   "source": [
    "# 1/1/2019,12:00:00\n",
    "scaler = MinMaxScaler(feature_range=(1, 2), copy=False)\n",
    "etr_global = np.array([976.6518, 986.2141, 993.2112, 976.4609, 986.9810, 996.1500, 976.0328, 984.4011, 999.2476]).reshape(-1, 1)\n",
    "scaler.fit_transform(etr_global)\n",
    "taiwan_grid['ETR_Global'] = etr_global\n",
    "taiwan_grid"
   ]
  },
  {
   "cell_type": "code",
   "execution_count": 6,
   "metadata": {},
   "outputs": [
    {
     "data": {
      "text/html": [
       "<div>\n",
       "<style scoped>\n",
       "    .dataframe tbody tr th:only-of-type {\n",
       "        vertical-align: middle;\n",
       "    }\n",
       "\n",
       "    .dataframe tbody tr th {\n",
       "        vertical-align: top;\n",
       "    }\n",
       "\n",
       "    .dataframe thead th {\n",
       "        text-align: right;\n",
       "    }\n",
       "</style>\n",
       "<table border=\"1\" class=\"dataframe\">\n",
       "  <thead>\n",
       "    <tr style=\"text-align: right;\">\n",
       "      <th></th>\n",
       "      <th>FID</th>\n",
       "      <th>geometry</th>\n",
       "      <th>ETR_Global</th>\n",
       "    </tr>\n",
       "  </thead>\n",
       "  <tbody>\n",
       "    <tr>\n",
       "      <th>0</th>\n",
       "      <td>0</td>\n",
       "      <td>POLYGON ((119.97000 23.65000, 120.12691 23.650...</td>\n",
       "      <td>0</td>\n",
       "    </tr>\n",
       "    <tr>\n",
       "      <th>1</th>\n",
       "      <td>1</td>\n",
       "      <td>POLYGON ((119.97000 23.05000, 120.05167 23.050...</td>\n",
       "      <td>0</td>\n",
       "    </tr>\n",
       "    <tr>\n",
       "      <th>2</th>\n",
       "      <td>2</td>\n",
       "      <td>POLYGON ((119.97000 22.45000, 120.44651 22.450...</td>\n",
       "      <td>0</td>\n",
       "    </tr>\n",
       "    <tr>\n",
       "      <th>3</th>\n",
       "      <td>3</td>\n",
       "      <td>POLYGON ((121.03667 22.66851, 121.03667 22.450...</td>\n",
       "      <td>0</td>\n",
       "    </tr>\n",
       "    <tr>\n",
       "      <th>4</th>\n",
       "      <td>4</td>\n",
       "      <td>POLYGON ((120.89630 22.24643, 120.89627 22.246...</td>\n",
       "      <td>0</td>\n",
       "    </tr>\n",
       "    <tr>\n",
       "      <th>5</th>\n",
       "      <td>5</td>\n",
       "      <td>POLYGON ((121.53867 23.65000, 121.57000 23.650...</td>\n",
       "      <td>0</td>\n",
       "    </tr>\n",
       "    <tr>\n",
       "      <th>6</th>\n",
       "      <td>6</td>\n",
       "      <td>POLYGON ((121.34454 23.05000, 121.57000 23.050...</td>\n",
       "      <td>0</td>\n",
       "    </tr>\n",
       "    <tr>\n",
       "      <th>7</th>\n",
       "      <td>7</td>\n",
       "      <td>MULTIPOLYGON (((121.03667 22.45000, 121.57000 ...</td>\n",
       "      <td>0</td>\n",
       "    </tr>\n",
       "  </tbody>\n",
       "</table>\n",
       "</div>"
      ],
      "text/plain": [
       "   FID                                           geometry  ETR_Global\n",
       "0    0  POLYGON ((119.97000 23.65000, 120.12691 23.650...           0\n",
       "1    1  POLYGON ((119.97000 23.05000, 120.05167 23.050...           0\n",
       "2    2  POLYGON ((119.97000 22.45000, 120.44651 22.450...           0\n",
       "3    3  POLYGON ((121.03667 22.66851, 121.03667 22.450...           0\n",
       "4    4  POLYGON ((120.89630 22.24643, 120.89627 22.246...           0\n",
       "5    5  POLYGON ((121.53867 23.65000, 121.57000 23.650...           0\n",
       "6    6  POLYGON ((121.34454 23.05000, 121.57000 23.050...           0\n",
       "7    7  MULTIPOLYGON (((121.03667 22.45000, 121.57000 ...           0"
      ]
     },
     "execution_count": 6,
     "metadata": {},
     "output_type": "execute_result"
    }
   ],
   "source": [
    "taiwan_offgrid['ETR_Global'] = [0 for i in range(len(taiwan_offgrid))]\n",
    "taiwan_offgrid"
   ]
  },
  {
   "cell_type": "code",
   "execution_count": 7,
   "metadata": {},
   "outputs": [
    {
     "data": {
      "text/html": [
       "<div>\n",
       "<style scoped>\n",
       "    .dataframe tbody tr th:only-of-type {\n",
       "        vertical-align: middle;\n",
       "    }\n",
       "\n",
       "    .dataframe tbody tr th {\n",
       "        vertical-align: top;\n",
       "    }\n",
       "\n",
       "    .dataframe thead th {\n",
       "        text-align: right;\n",
       "    }\n",
       "</style>\n",
       "<table border=\"1\" class=\"dataframe\">\n",
       "  <thead>\n",
       "    <tr style=\"text-align: right;\">\n",
       "      <th></th>\n",
       "      <th>FID</th>\n",
       "      <th>geometry</th>\n",
       "      <th>ETR_Global</th>\n",
       "    </tr>\n",
       "  </thead>\n",
       "  <tbody>\n",
       "    <tr>\n",
       "      <th>0</th>\n",
       "      <td>0</td>\n",
       "      <td>MULTIPOLYGON (((120.12691 23.65000, 120.50333 ...</td>\n",
       "      <td>1.026664</td>\n",
       "    </tr>\n",
       "    <tr>\n",
       "      <th>1</th>\n",
       "      <td>1</td>\n",
       "      <td>POLYGON ((120.05167 23.05000, 120.50333 23.050...</td>\n",
       "      <td>1.438569</td>\n",
       "    </tr>\n",
       "    <tr>\n",
       "      <th>2</th>\n",
       "      <td>2</td>\n",
       "      <td>MULTIPOLYGON (((120.44651 22.45000, 120.50333 ...</td>\n",
       "      <td>1.739976</td>\n",
       "    </tr>\n",
       "    <tr>\n",
       "      <th>3</th>\n",
       "      <td>3</td>\n",
       "      <td>POLYGON ((120.50333 23.65000, 120.63506 23.650...</td>\n",
       "      <td>1.018441</td>\n",
       "    </tr>\n",
       "    <tr>\n",
       "      <th>4</th>\n",
       "      <td>4</td>\n",
       "      <td>POLYGON ((120.50333 23.05000, 121.03667 23.050...</td>\n",
       "      <td>1.471604</td>\n",
       "    </tr>\n",
       "    <tr>\n",
       "      <th>5</th>\n",
       "      <td>5</td>\n",
       "      <td>POLYGON ((120.50333 22.45000, 120.94334 22.450...</td>\n",
       "      <td>1.866568</td>\n",
       "    </tr>\n",
       "    <tr>\n",
       "      <th>6</th>\n",
       "      <td>6</td>\n",
       "      <td>POLYGON ((121.03667 23.65000, 121.23044 23.650...</td>\n",
       "      <td>1.000000</td>\n",
       "    </tr>\n",
       "    <tr>\n",
       "      <th>7</th>\n",
       "      <td>7</td>\n",
       "      <td>MULTIPOLYGON (((121.03667 23.05000, 121.34454 ...</td>\n",
       "      <td>1.360473</td>\n",
       "    </tr>\n",
       "    <tr>\n",
       "      <th>8</th>\n",
       "      <td>8</td>\n",
       "      <td>MULTIPOLYGON (((121.57000 22.08694, 121.57000 ...</td>\n",
       "      <td>2.000000</td>\n",
       "    </tr>\n",
       "    <tr>\n",
       "      <th>9</th>\n",
       "      <td>0</td>\n",
       "      <td>POLYGON ((119.97000 23.65000, 120.12691 23.650...</td>\n",
       "      <td>0.000000</td>\n",
       "    </tr>\n",
       "    <tr>\n",
       "      <th>10</th>\n",
       "      <td>1</td>\n",
       "      <td>POLYGON ((119.97000 23.05000, 120.05167 23.050...</td>\n",
       "      <td>0.000000</td>\n",
       "    </tr>\n",
       "    <tr>\n",
       "      <th>11</th>\n",
       "      <td>2</td>\n",
       "      <td>POLYGON ((119.97000 22.45000, 120.44651 22.450...</td>\n",
       "      <td>0.000000</td>\n",
       "    </tr>\n",
       "    <tr>\n",
       "      <th>12</th>\n",
       "      <td>3</td>\n",
       "      <td>POLYGON ((121.03667 22.66851, 121.03667 22.450...</td>\n",
       "      <td>0.000000</td>\n",
       "    </tr>\n",
       "    <tr>\n",
       "      <th>13</th>\n",
       "      <td>4</td>\n",
       "      <td>POLYGON ((120.89630 22.24643, 120.89627 22.246...</td>\n",
       "      <td>0.000000</td>\n",
       "    </tr>\n",
       "    <tr>\n",
       "      <th>14</th>\n",
       "      <td>5</td>\n",
       "      <td>POLYGON ((121.53867 23.65000, 121.57000 23.650...</td>\n",
       "      <td>0.000000</td>\n",
       "    </tr>\n",
       "    <tr>\n",
       "      <th>15</th>\n",
       "      <td>6</td>\n",
       "      <td>POLYGON ((121.34454 23.05000, 121.57000 23.050...</td>\n",
       "      <td>0.000000</td>\n",
       "    </tr>\n",
       "    <tr>\n",
       "      <th>16</th>\n",
       "      <td>7</td>\n",
       "      <td>MULTIPOLYGON (((121.03667 22.45000, 121.57000 ...</td>\n",
       "      <td>0.000000</td>\n",
       "    </tr>\n",
       "  </tbody>\n",
       "</table>\n",
       "</div>"
      ],
      "text/plain": [
       "    FID                                           geometry  ETR_Global\n",
       "0     0  MULTIPOLYGON (((120.12691 23.65000, 120.50333 ...    1.026664\n",
       "1     1  POLYGON ((120.05167 23.05000, 120.50333 23.050...    1.438569\n",
       "2     2  MULTIPOLYGON (((120.44651 22.45000, 120.50333 ...    1.739976\n",
       "3     3  POLYGON ((120.50333 23.65000, 120.63506 23.650...    1.018441\n",
       "4     4  POLYGON ((120.50333 23.05000, 121.03667 23.050...    1.471604\n",
       "5     5  POLYGON ((120.50333 22.45000, 120.94334 22.450...    1.866568\n",
       "6     6  POLYGON ((121.03667 23.65000, 121.23044 23.650...    1.000000\n",
       "7     7  MULTIPOLYGON (((121.03667 23.05000, 121.34454 ...    1.360473\n",
       "8     8  MULTIPOLYGON (((121.57000 22.08694, 121.57000 ...    2.000000\n",
       "9     0  POLYGON ((119.97000 23.65000, 120.12691 23.650...    0.000000\n",
       "10    1  POLYGON ((119.97000 23.05000, 120.05167 23.050...    0.000000\n",
       "11    2  POLYGON ((119.97000 22.45000, 120.44651 22.450...    0.000000\n",
       "12    3  POLYGON ((121.03667 22.66851, 121.03667 22.450...    0.000000\n",
       "13    4  POLYGON ((120.89630 22.24643, 120.89627 22.246...    0.000000\n",
       "14    5  POLYGON ((121.53867 23.65000, 121.57000 23.650...    0.000000\n",
       "15    6  POLYGON ((121.34454 23.05000, 121.57000 23.050...    0.000000\n",
       "16    7  MULTIPOLYGON (((121.03667 22.45000, 121.57000 ...    0.000000"
      ]
     },
     "execution_count": 7,
     "metadata": {},
     "output_type": "execute_result"
    }
   ],
   "source": [
    "solpos = pd.concat([taiwan_grid, taiwan_offgrid], ignore_index=True)\n",
    "\n",
    "assert solpos.crs == 'epsg:3824' \n",
    "#solpos.to_file(\"solpos.shp\")\n",
    "solpos"
   ]
  },
  {
   "cell_type": "code",
   "execution_count": 51,
   "metadata": {
    "scrolled": true
   },
   "outputs": [
    {
     "data": {
      "image/png": "[encoded data removed]",
      "text/plain": [
       "<Figure size 200x200 with 1 Axes>"
      ]
     },
     "metadata": {
      "needs_background": "light"
     },
     "output_type": "display_data"
    },
    {
     "name": "stdout",
     "output_type": "stream",
     "text": [
      "[200. 200.]\n"
     ]
    }
   ],
   "source": [
    "# 100 pixel = 1\" DPI\n",
    "dpi = 100\n",
    "width_pixel = 200\n",
    "height_pixel = 200\n",
    "\n",
    "fig, ax = plt.subplots(figsize=(width_pixel/dpi, height_pixel/dpi), dpi=dpi)\n",
    "solpos.plot(ax=ax, column='ETR_Global', cmap='gray_r')\n",
    "plt.axis('off')\n",
    "plt.xlim(left=taiwan_offgrid.total_bounds[0], right=taiwan_offgrid.total_bounds[2])\n",
    "plt.ylim(bottom=taiwan_offgrid.total_bounds[1], top=taiwan_offgrid.total_bounds[3])\n",
    "#print(plt.xlim(), plt.ylim())\n",
    "\n",
    "# To save it in the same resolution as the screen just use the same dpi\n",
    "plt.savefig('./FeatMap/solpos.png', dpi=dpi)\n",
    "plt.show()\n",
    "\n",
    "print(fig.get_size_inches()*fig.dpi) # size in pixels"
   ]
  },
  {
   "cell_type": "code",
   "execution_count": 43,
   "metadata": {},
   "outputs": [
    {
     "data": {
      "text/plain": [
       "(200, 200, 3)"
      ]
     },
     "execution_count": 43,
     "metadata": {},
     "output_type": "execute_result"
    }
   ],
   "source": [
    "img = cv2.imread('./FeatMap/solpos.png')\n",
    "img.shape"
   ]
  },
  {
   "cell_type": "code",
   "execution_count": 36,
   "metadata": {},
   "outputs": [
    {
     "name": "stdout",
     "output_type": "stream",
     "text": [
      "[432. 288.]\n"
     ]
    },
    {
     "data": {
      "text/plain": [
       "<Figure size 432x288 with 0 Axes>"
      ]
     },
     "metadata": {},
     "output_type": "display_data"
    }
   ],
   "source": [
    "solpos.plot(ax=ax, column='ETR_Global', cmap='gray_r') \n",
    "fig = plt.gcf()\n",
    "print(fig.get_size_inches()*fig.dpi) # size in pixels"
   ]
  },
  {
   "cell_type": "code",
   "execution_count": null,
   "metadata": {},
   "outputs": [],
   "source": []
  }
 ],
 "metadata": {
  "kernelspec": {
   "display_name": "Python 3",
   "language": "python",
   "name": "python3"
  },
  "language_info": {
   "codemirror_mode": {
    "name": "ipython",
    "version": 3
   },
   "file_extension": ".py",
   "mimetype": "text/x-python",
   "name": "python",
   "nbconvert_exporter": "python",
   "pygments_lexer": "ipython3",
   "version": "3.7.3"
  }
 },
 "nbformat": 4,
 "nbformat_minor": 4
}
