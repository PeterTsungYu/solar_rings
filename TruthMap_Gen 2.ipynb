{
 "cells": [
  {
   "cell_type": "markdown",
   "metadata": {},
   "source": [
    "Ref:\n",
    "1. save numpy array\n",
    "    https://machinelearningmastery.com/how-to-save-a-numpy-array-to-file-for-machine-learning/\n",
    "2. customize loss function\n",
    "    https://towardsdatascience.com/advanced-keras-constructing-complex-custom-losses-and-metrics-c07ca130a618\n",
    "3. Tensor Customize Loss Func\n",
    "    https://www.tensorflow.org/guide/keras/train_and_evaluate#custom_losses"
   ]
  },
  {
   "cell_type": "code",
   "execution_count": 1,
   "metadata": {},
   "outputs": [],
   "source": [
    "import warnings\n",
    "warnings.filterwarnings(\"ignore\")"
   ]
  },
  {
   "cell_type": "code",
   "execution_count": 2,
   "metadata": {},
   "outputs": [],
   "source": [
    "import os\n",
    "import re\n",
    "import glob\n",
    "import tqdm\n",
    "import numpy as np\n",
    "import pandas as pd\n",
    "import matplotlib.pyplot as plt\n",
    "from matplotlib.backends.backend_agg import FigureCanvasAgg\n",
    "import cv2\n",
    "import geopandas as gp\n",
    "import descartes\n",
    "from shapely.geometry import Polygon\n",
    "from sklearn.preprocessing import MinMaxScaler"
   ]
  },
  {
   "cell_type": "markdown",
   "metadata": {},
   "source": [
    "## Generating the boolean mask for each cell in the grid"
   ]
  },
  {
   "cell_type": "code",
   "execution_count": 3,
   "metadata": {},
   "outputs": [
    {
     "data": {
      "application/vnd.jupyter.widget-view+json": {
       "model_id": "81faa9a135684768a9c3ebbde63f5a19",
       "version_major": 2,
       "version_minor": 0
      },
      "text/plain": [
       "HBox(children=(IntProgress(value=0, max=66), HTML(value='')))"
      ]
     },
     "metadata": {},
     "output_type": "display_data"
    },
    {
     "name": "stdout",
     "output_type": "stream",
     "text": [
      "\n"
     ]
    }
   ],
   "source": [
    "# Grid_BoolMask\n",
    "taiwan_grid = gp.read_file(\"./MapData/taiwan_grid.shp\")\n",
    "taiwan_offgrid = gp.read_file(\"./MapData/taiwan_offgrid.shp\")\n",
    "assert taiwan_grid.crs == 'epsg:3824' \n",
    "assert taiwan_offgrid.crs == 'epsg:3824' \n",
    "\n",
    "taiwan_grid['value'] = 0\n",
    "taiwan_offgrid['value'] = 0\n",
    "featmap = pd.concat([taiwan_grid, taiwan_offgrid], ignore_index=True)\n",
    "\n",
    "dpi = 100\n",
    "width_pixel = 200\n",
    "height_pixel = 350\n",
    "\n",
    "# generate boolmask for grids\n",
    "for i in tqdm.tqdm_notebook(range(len(taiwan_grid))):\n",
    "    featmap.iloc[i, 2] = 1\n",
    "    fig, ax = plt.subplots(figsize=(width_pixel/dpi, height_pixel/dpi), dpi=dpi)\n",
    "    canvas = FigureCanvasAgg(fig)\n",
    "\n",
    "    featmap.plot(ax=ax, column='value', cmap='gray')\n",
    "\n",
    "    ax.set_axis_off()\n",
    "    ax.set_xlim(left=taiwan_offgrid.total_bounds[0], right=taiwan_offgrid.total_bounds[2])\n",
    "    ax.set_ylim(bottom=taiwan_offgrid.total_bounds[1], top=taiwan_offgrid.total_bounds[3])\n",
    "    #print(plt.xlim(), plt.ylim())\n",
    "    #ax.margins(0)\n",
    "    #fig.tight_layout(pad=0)\n",
    "\n",
    "    # Retrieve a view on the renderer buffer\n",
    "    canvas.draw()\n",
    "    buf = canvas.buffer_rgba()\n",
    "    # convert to a NumPy array\n",
    "    X = np.asarray(buf)\n",
    "    assert sum(sum(X[:,:,0] != X[:,:,1])) == 0\n",
    "    assert sum(sum(X[:,:,2] != X[:,:,1])) == 0\n",
    "    X = X[:,:,0]\n",
    "    width_mean = X.mean(axis=0)\n",
    "    height_mean = X.mean(axis=1)\n",
    "\n",
    "    width_ind = np.arange(X.shape[-1])\n",
    "    height_ind = np.arange(X.shape[0])\n",
    "\n",
    "    left = width_ind[list(width_mean != 255.0)][0]\n",
    "    right = width_ind[list(width_mean != 255.0)][-1]\n",
    "    top = height_ind[list(height_mean != 255.0)][0]\n",
    "    bottom = height_ind[list(height_mean != 255.0)][-1]\n",
    "\n",
    "    img = X[top:bottom+1, left:right+1]\n",
    "\n",
    "    bool_mask = (img == 255)\n",
    "    #assert bool_mask.shape == img.shape\n",
    "    np.save(f'./Grid_BoolMask/grid_{i}.npy', bool_mask)\n",
    "    \n",
    "    featmap.iloc[i, 2] = 0\n",
    "    \n",
    "    plt.close()\n",
    "\n",
    "assert len(sorted(glob.glob('Grid_BoolMask/*.npy'))) == len(taiwan_grid)"
   ]
  },
  {
   "cell_type": "markdown",
   "metadata": {},
   "source": [
    "## Generate the truthmap of sunshine hour and GloblRad from the main weather station "
   ]
  },
  {
   "cell_type": "code",
   "execution_count": 4,
   "metadata": {
    "scrolled": true
   },
   "outputs": [
    {
     "name": "stdout",
     "output_type": "stream",
     "text": [
      "{0: 8, 1: 8, 2: 11, 3: 12, 4: 37, 5: 44, 6: 36, 7: 65, 8: 59}\n"
     ]
    },
    {
     "data": {
      "application/vnd.jupyter.widget-view+json": {
       "model_id": "52ed96e387164d77b68e1db0dbc80cdc",
       "version_major": 2,
       "version_minor": 0
      },
      "text/plain": [
       "HBox(children=(IntProgress(value=0, max=8760), HTML(value='')))"
      ]
     },
     "metadata": {},
     "output_type": "display_data"
    },
    {
     "name": "stdout",
     "output_type": "stream",
     "text": [
      "\n"
     ]
    }
   ],
   "source": [
    "# MainSta's location\n",
    "taiwan_grid = gp.read_file(\"./MapData/taiwan_grid.shp\")\n",
    "taiwan_offgrid = gp.read_file(\"./MapData/taiwan_offgrid.shp\")\n",
    "Sta_df = pd.read_csv('WeatherStation.csv')\n",
    "Sta_gdf = gp.GeoDataFrame(\n",
    "    Sta_df, geometry=gp.points_from_xy(Sta_df.Longitude, Sta_df.Latitude), crs=taiwan_grid.crs)\n",
    "MainSta_gdf = Sta_gdf.loc[0:8]\n",
    "\n",
    "assert taiwan_grid.crs == 'epsg:3824' \n",
    "assert taiwan_offgrid.crs == 'epsg:3824' \n",
    "\n",
    "# locate the main stations in the grid\n",
    "target = dict()\n",
    "for i in range(len(MainSta_gdf)):\n",
    "    for u in range(len(taiwan_grid)):\n",
    "        if MainSta_gdf.loc[i, 'geometry'].within(taiwan_grid.loc[u, 'geometry']):\n",
    "            target[i] = u\n",
    "#target.pop('永康')\n",
    "print(target)\n",
    "\n",
    "\n",
    "# loop over the files, fill_CODiS\n",
    "fill_csv = sorted(glob.glob('./fill_CODiS/fill2_Station_bytime_2017/*.csv'))\n",
    "\n",
    "\n",
    "# time by time for MainSta's 'SunShine', 'GloblRad'\n",
    "for name in tqdm.tqdm_notebook(fill_csv):\n",
    "    \n",
    "    npy_name = re.search(r'\\d{4}-\\d{2}-\\d{2}_H\\d{2}', name).group()\n",
    "    \n",
    "    # main station only\n",
    "    codis = pd.read_csv(name, usecols=['SunShine', 'GloblRad']).iloc[:9] \n",
    "    #print(codis)\n",
    "\n",
    "    for feat in ['SunShine', 'GloblRad']:\n",
    "        truthmap = np.zeros((200, 155), dtype='float32')\n",
    "        \n",
    "        # fill the array with the corresponding cell values\n",
    "        ## applying boolean mask to the array and fill in the values from the fill_CODiS\n",
    "        for sta, grid in target.items():\n",
    "            #print(sta,grid)\n",
    "            truthmap[np.load(f'./Grid_BoolMask/grid_{grid}.npy')] = codis.loc[sta, feat]\n",
    "        \n",
    "        assert truthmap.shape == (200,155)\n",
    "        assert truthmap.dtype == 'float32'\n",
    "        np.save(f'./TruthMap/{feat}/{npy_name}.npy', truthmap)\n",
    "        #plt.imshow(truthmap, cmap='gray')"
   ]
  },
  {
   "cell_type": "code",
   "execution_count": 5,
   "metadata": {},
   "outputs": [
    {
     "data": {
      "text/plain": [
       "\"\\nimg = np.load('./TruthMap/BoolMask.npy')\\nplt.imshow(img)\\n#plt.colorbar()\\nplt.savefig('./TruthMap/BoolMask.png')\\n\\nbool_mask = (img != 0)\\n#print(bool_mask.shape)\\n\\n#np.save('./TruthMap/BoolMask.npy', bool_mask)\\n\""
      ]
     },
     "execution_count": 5,
     "metadata": {},
     "output_type": "execute_result"
    }
   ],
   "source": [
    "'''\n",
    "img = np.load('./TruthMap/BoolMask.npy')\n",
    "plt.imshow(img)\n",
    "#plt.colorbar()\n",
    "plt.savefig('./TruthMap/BoolMask.png')\n",
    "\n",
    "bool_mask = (img != 0)\n",
    "#print(bool_mask.shape)\n",
    "\n",
    "#np.save('./TruthMap/BoolMask.npy', bool_mask)\n",
    "'''"
   ]
  },
  {
   "cell_type": "code",
   "execution_count": null,
   "metadata": {},
   "outputs": [],
   "source": [
    "'''\n",
    "# scale_mask\n",
    "taiwan_offgrid = gp.read_file(\"./MapData/taiwan_offgrid.shp\")\n",
    "taiwan_grid = gp.read_file(\"./MapData/taiwan_grid.shp\")\n",
    "taiwan_grid['mask'] = 0.0\n",
    "taiwan_offgrid['mask'] = 0.0\n",
    "taiwan_offgrid.loc[71, 'mask'] = 1.0\n",
    "scale_map = pd.concat([taiwan_grid, taiwan_offgrid], ignore_index=True)\n",
    "\n",
    "# 100 pixel = 1\" DPI\n",
    "dpi = 100\n",
    "width_pixel = 200\n",
    "height_pixel = 350\n",
    "\n",
    "fig, ax = plt.subplots(figsize=(width_pixel/dpi, height_pixel/dpi), dpi=dpi)\n",
    "canvas = FigureCanvasAgg(fig)\n",
    "\n",
    "scale_map.plot(ax=ax, column='mask', cmap='gray')\n",
    "\n",
    "ax.set_axis_off()\n",
    "ax.set_xlim(left=taiwan_offgrid.total_bounds[0], right=taiwan_offgrid.total_bounds[2])\n",
    "ax.set_ylim(bottom=taiwan_offgrid.total_bounds[1], top=taiwan_offgrid.total_bounds[3])\n",
    "#print(plt.xlim(), plt.ylim())\n",
    "#ax.margins(0)\n",
    "#fig.tight_layout(pad=0)\n",
    "\n",
    "# Retrieve a view on the renderer buffer\n",
    "canvas.draw()\n",
    "buf = canvas.buffer_rgba()\n",
    "# convert to a NumPy array\n",
    "X = np.asarray(buf)\n",
    "X = X[:,:,0]\n",
    "width_mean = X.mean(axis=0)\n",
    "height_mean = X.mean(axis=1)\n",
    "\n",
    "width_ind = np.arange(X.shape[-1])\n",
    "height_ind = np.arange(X.shape[0])\n",
    "\n",
    "left = width_ind[list(width_mean != 255.0)][0]\n",
    "right = width_ind[list(width_mean != 255.0)][-1]\n",
    "top = height_ind[list(height_mean != 255.0)][0]\n",
    "bottom = height_ind[list(height_mean != 255.0)][-1]\n",
    "\n",
    "img = X[top:bottom+1, left:right+1]\n",
    "#print(img.shape)\n",
    "#print(img)\n",
    "scale_mask = (img != 0)\n",
    "#print(scale_mask.shape)\n",
    "np.save('./TruthMap/ScaleMask.npy', scale_mask)\n",
    "\n",
    "#plt.imshow(img)\n",
    "#plt.savefig('./TruthMap/ScaleMask.png')\n",
    "'''"
   ]
  }
 ],
 "metadata": {
  "kernelspec": {
   "display_name": "Python 3",
   "language": "python",
   "name": "python3"
  },
  "language_info": {
   "codemirror_mode": {
    "name": "ipython",
    "version": 3
   },
   "file_extension": ".py",
   "mimetype": "text/x-python",
   "name": "python",
   "nbconvert_exporter": "python",
   "pygments_lexer": "ipython3",
   "version": "3.7.3"
  }
 },
 "nbformat": 4,
 "nbformat_minor": 4
}
