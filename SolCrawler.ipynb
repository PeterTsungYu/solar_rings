{
 "cells": [
  {
   "cell_type": "markdown",
   "metadata": {},
   "source": [
    "Ref:\n",
    "1. SOLPOS Online Calc\n",
    "    https://midcdmz.nrel.gov/solpos/solpos.html"
   ]
  },
  {
   "cell_type": "code",
   "execution_count": null,
   "metadata": {},
   "outputs": [],
   "source": [
    "import os\n",
    "import requests\n",
    "import pandas as pd\n",
    "import pprint\n",
    "from bs4 import BeautifulSoup\n",
    "from dateutil.parser import parse"
   ]
  },
  {
   "cell_type": "code",
   "execution_count": null,
   "metadata": {},
   "outputs": [],
   "source": [
    "def solpos(syear=\"2017\",\n",
    "           smonth=\"1\",\n",
    "           sday=\"1\",\n",
    "           eyear=\"2017\",\n",
    "           emonth=\"1\",\n",
    "           eday=\"1\",\n",
    "           hour=0,\n",
    "           latitude=39.74,\n",
    "           longitude=-105.18,\n",
    "           press=1013.0,\n",
    "           temp=15.0\n",
    "          ):\n",
    "    \n",
    "    # output fields: field=1&field=3&field=14\n",
    "    ## pressure-Corr AirMass\n",
    "    ## Cosine of solar incidence angle on panel\n",
    "    ## Extraterrestrial Global Horizontal Solar Irradiance (W/m2)\n",
    "    url_base = \\\n",
    "    'https://midcdmz.nrel.gov/apps/solpos.pl?timezone=8&step=60&stepunit=1&aspect=180&tilt=0&solcon=1367&sbwid=7.6&sbrad=31.7&sbsky=0.04&interval=0&field=1&field=3&field=14&'\n",
    "    url_params = f\"syear={syear}&smonth={smonth}&sday={sday}&eyear={eyear}&emonth={emonth}&eday={eday}&latitude={latitude}&longitude={longitude}&press={press}&temp={temp}\"\n",
    "    url = url_base + url_params\n",
    "    \n",
    "    resp = requests.get(url)\n",
    "    text = resp.text.split('\\n')    #將取得的文字內容分段\n",
    "    \n",
    "    first_row = text.pop(0)\n",
    "    colnames = first_row.split(',')    #取出第一個row作為colnames\n",
    "    \n",
    "    rows = []\n",
    "    for i in range(len(text)-1):\n",
    "        rows.append(text[i].split(','))    #將剩餘文字存入rows\n",
    "        \n",
    "    df = pd.DataFrame(rows, columns=colnames)\n",
    "    \n",
    "    df = df.iloc[:, 2:].astype('float64')\n",
    "    print(df)\n",
    "    output = tuple(df.loc[hour, ['Air mass (press cor)', 'Cos incidence', 'ETR global']])\n",
    "    \n",
    "    return output"
   ]
  },
  {
   "cell_type": "code",
   "execution_count": null,
   "metadata": {},
   "outputs": [],
   "source": [
    "solpos()"
   ]
  }
 ],
 "metadata": {
  "kernelspec": {
   "display_name": "Python 3",
   "language": "python",
   "name": "python3"
  },
  "language_info": {
   "codemirror_mode": {
    "name": "ipython",
    "version": 3
   },
   "file_extension": ".py",
   "mimetype": "text/x-python",
   "name": "python",
   "nbconvert_exporter": "python",
   "pygments_lexer": "ipython3",
   "version": "3.7.3"
  }
 },
 "nbformat": 4,
 "nbformat_minor": 4
}
