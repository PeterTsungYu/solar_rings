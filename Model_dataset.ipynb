{
 "cells": [
  {
   "cell_type": "markdown",
   "metadata": {},
   "source": [
    "Ref:\n",
    "1. An introduction to ConvLSTM\n",
    "    https://medium.com/neuronio/an-introduction-to-convlstm-55c9025563a7\n",
    "2. How to work with Time Distributed data in a neural network\n",
    "    https://medium.com/smileinnovation/how-to-work-with-time-distributed-data-in-a-neural-network-b8b39aa4ce00\n",
    "3. A Visual Guide to Recurrent Layers in Keras\n",
    "    https://amitness.com/2020/04/recurrent-layers-keras/\n",
    "4. coursera-functional api\n",
    "    https://www.coursera.org/lecture/customising-models-tensorflow2/multiple-inputs-and-outputs-XVZYB\n",
    "5. keras - functional api\n",
    "    https://www.tensorflow.org/guide/keras/functional\n",
    "6. Advanced Keras — Constructing Complex Custom Losses and Metrics\n",
    "    https://towardsdatascience.com/advanced-keras-constructing-complex-custom-losses-and-metrics-c07ca130a618\n",
    "7. tensorflow: save and load model\n",
    "    https://www.tensorflow.org/tutorials/keras/save_and_load\n",
    "8. tensorflow: training and evaluation\n",
    "    https://www.tensorflow.org/guide/keras/train_and_evaluate\n",
    "9. Write custom callback\n",
    "    https://www.tensorflow.org/guide/keras/custom_callback/\n",
    "10. Distributed training \n",
    "    https://keras.io/guides/distributed_training/"
   ]
  },
  {
   "cell_type": "code",
   "execution_count": 1,
   "metadata": {},
   "outputs": [],
   "source": [
    "import numpy as np\n",
    "import os\n",
    "import glob\n",
    "import tensorflow as tf"
   ]
  },
  {
   "cell_type": "code",
   "execution_count": 2,
   "metadata": {},
   "outputs": [],
   "source": [
    "atm = np.load(\"./atm_2017.npy\")\n",
    "rain = np.load(\"./rain_2017.npy\")\n",
    "wind = np.load(\"./wind_2017.npy\")\n",
    "cloud = np.load(\"./cloud_2017.npy\")\n",
    "etr = np.load(\"./etr_2017.npy\")\n",
    "irr = np.load(\"./irr_2017.npy\")\n",
    "hour = np.load(\"./hour_2017.npy\")\n",
    "shine = np.load(\"./shine_2017.npy\")"
   ]
  },
  {
   "cell_type": "code",
   "execution_count": 3,
   "metadata": {},
   "outputs": [],
   "source": [
    "batch_size = 12 # 24 hr prediction as a batch\n",
    "\n",
    "\n",
    "data_len = atm.shape[0]\n",
    "# array indexing (index as array)\n",
    "ind = np.random.permutation(data_len)\n",
    "num_val_samples = int(data_len*0.1)"
   ]
  },
  {
   "cell_type": "markdown",
   "metadata": {},
   "source": [
    "## Training Dataset"
   ]
  },
  {
   "cell_type": "code",
   "execution_count": 4,
   "metadata": {},
   "outputs": [],
   "source": [
    "# training dataset\n",
    "train_dataset = tf.data.Dataset.from_tensor_slices(\n",
    "    (\n",
    "        {\"atm\": atm[ind][:-num_val_samples], \n",
    "         \"rain\": rain[ind][:-num_val_samples], \n",
    "         \"wind\": wind[ind][:-num_val_samples], \n",
    "         \"cloud\": cloud[ind][:-num_val_samples], \n",
    "         \"hour_space\": hour[ind][:-num_val_samples], \n",
    "         \"etr_space\": etr[ind][:-num_val_samples]\n",
    "        },\n",
    "        {\"hour_ground_pred\": shine[ind][:-num_val_samples], \n",
    "         \"irr_ground_pred\": irr[ind][:-num_val_samples]\n",
    "        },\n",
    "    )\n",
    ")"
   ]
  },
  {
   "cell_type": "code",
   "execution_count": null,
   "metadata": {},
   "outputs": [],
   "source": [
    "filename = 'training_dataset.tfrecord'\n",
    "train_writer = tf.data.experimental.TFRecordWriter(filename)\n",
    "train_writer.write(train_dataset)"
   ]
  },
  {
   "cell_type": "markdown",
   "metadata": {},
   "source": [
    "## Val Dataset"
   ]
  },
  {
   "cell_type": "code",
   "execution_count": null,
   "metadata": {},
   "outputs": [],
   "source": [
    "# val dataset\n",
    "val_dataset = tf.data.Dataset.from_tensor_slices(\n",
    "    (\n",
    "        {\"atm\": atm[ind][-num_val_samples:], \n",
    "         \"rain\": rain[ind][-num_val_samples:], \n",
    "         \"wind\": wind[ind][-num_val_samples:], \n",
    "         \"cloud\": cloud[ind][-num_val_samples:], \n",
    "         \"hour_space\": hour[ind][-num_val_samples:], \n",
    "         \"etr_space\": etr[ind][-num_val_samples:]\n",
    "        },\n",
    "        {\"hour_ground_pred\": shine[ind][-num_val_samples:], \n",
    "         \"irr_ground_pred\": irr[ind][-num_val_samples:]\n",
    "        },\n",
    "    )\n",
    ")"
   ]
  },
  {
   "cell_type": "code",
   "execution_count": null,
   "metadata": {},
   "outputs": [],
   "source": []
  }
 ],
 "metadata": {
  "kernelspec": {
   "display_name": "Python 3",
   "language": "python",
   "name": "python3"
  },
  "language_info": {
   "codemirror_mode": {
    "name": "ipython",
    "version": 3
   },
   "file_extension": ".py",
   "mimetype": "text/x-python",
   "name": "python",
   "nbconvert_exporter": "python",
   "pygments_lexer": "ipython3",
   "version": "3.7.3"
  }
 },
 "nbformat": 4,
 "nbformat_minor": 4
}
