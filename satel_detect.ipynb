{
 "cells": [
  {
   "cell_type": "markdown",
   "metadata": {},
   "source": [
    "Ref:\n",
    "1. RegEx\n",
    "    https://www.tutorialspoint.com/python/python_reg_expressions.htm\n"
   ]
  },
  {
   "cell_type": "code",
   "execution_count": 2,
   "metadata": {},
   "outputs": [],
   "source": [
    "import os\n",
    "import re\n",
    "import pandas as pd"
   ]
  },
  {
   "cell_type": "code",
   "execution_count": 2,
   "metadata": {},
   "outputs": [
    {
     "data": {
      "text/plain": [
       "['.ipynb_checkpoints',\n",
       " 'satellite-water-vapor-10min',\n",
       " 'Top alert (every 10min)',\n",
       " 'CropCloud',\n",
       " 'HD']"
      ]
     },
     "execution_count": 2,
     "metadata": {},
     "output_type": "execute_result"
    }
   ],
   "source": [
    "os.listdir(path='./CloudImg')"
   ]
  },
  {
   "cell_type": "code",
   "execution_count": 3,
   "metadata": {},
   "outputs": [],
   "source": [
    "def detect_per_month(lst_path ,days=31):\n",
    "\n",
    "    per_month = []\n",
    "    days = days\n",
    "    for u in range(1, days+1):\n",
    "        per_month.append([i for i in lst_path if int(i[0][-2:])==u])\n",
    "\n",
    "    lst_lack = []\n",
    "    len_lack = []\n",
    "    rep = []\n",
    "\n",
    "    for u in range(days):\n",
    "        if len(per_month[u]) != 24:\n",
    "            len_lack.append([per_month[u][0][0], 24-len(per_month[u])])\n",
    "\n",
    "        for i in range(len(per_month[u])):\n",
    "            now = per_month[u][i][-1]\n",
    "\n",
    "            if (i == 0) & (int(now) != 0):\n",
    "                for v in range(0, int(now)):\n",
    "                    lst_lack.append(per_month[u][i][0] + '_' + str(v))\n",
    "\n",
    "            if i >= 1:\n",
    "                before = per_month[u][i-1][-1]\n",
    "                if (int(now) - int(before)) == 0:\n",
    "                    rep.append(per_month[u][i][0] + '_' + now)\n",
    "                if (int(now) - int(before)) > 1:\n",
    "                    for v in range(1, (int(now) - int(before))):\n",
    "                        lst_lack.append(per_month[u][i][0] + '_' + str(int(before)+v))\n",
    "\n",
    "            if (i+1 == len(per_month[u])) & (int(now) != 23):\n",
    "                for v in range(0, (23 - int(now))):\n",
    "                    lst_lack.append(per_month[u][i][0] + '_' + str(int(now)+v+1))\n",
    "\n",
    "    print(f'lack of hours:\\n {lst_lack}', end='\\n\\n')\n",
    "    print(f'repeated hours:\\n {rep}', end='\\n\\n')\n",
    "    #print(f'short length day and the lack:\\n {len_lack}', end='\\n\\n')\n",
    "    #print(f'lack of lenth: {24*days - len(lst_path)}', end='\\n\\n')\n",
    "    print('='*80)"
   ]
  },
  {
   "cell_type": "code",
   "execution_count": 4,
   "metadata": {},
   "outputs": [],
   "source": [
    "def detect_month(img='satellite-water-vapor-10min', months=[1]):\n",
    "    \n",
    "    print(f'{img}', end='\\n\\n')\n",
    "    months=months\n",
    "    lst_per_month=[]\n",
    "\n",
    "    lst_path = os.listdir(path='./'+img)\n",
    "    lst_path = sorted([re.search(r'\\d{4}_\\d{2}_\\d{2}_\\d{2}', i).group() for i in lst_path if i != '.ipynb_checkpoints'])\n",
    "    lst_path = [i.split('_') for i in lst_path]\n",
    "    lst_path = [['_'.join(i[0:3]), i[-1]] for i in lst_path]\n",
    "    #print(lst_path)\n",
    "\n",
    "    for month in months:\n",
    "        lst_per_month.append([i for i in lst_path if int(i[0][5:7])==month])\n",
    "    #print(lst_per_month)\n",
    "    \n",
    "    for v in range(len(months)):\n",
    "        detect_per_month(lst_per_month[v],days=int(lst_per_month[v][-1][0][-2:]))"
   ]
  },
  {
   "cell_type": "code",
   "execution_count": 5,
   "metadata": {},
   "outputs": [
    {
     "name": "stdout",
     "output_type": "stream",
     "text": [
      "satellite-hd-10min\n",
      "\n",
      "lack of hours:\n",
      " []\n",
      "\n",
      "repeated hours:\n",
      " []\n",
      "\n",
      "================================================================================\n"
     ]
    }
   ],
   "source": [
    "for i in ['satellite-hd-10min']:\n",
    "    detect_month(i, months=[1])#1,2,3,4,5,6,7,8,9,10,11,12"
   ]
  },
  {
   "cell_type": "code",
   "execution_count": 6,
   "metadata": {},
   "outputs": [],
   "source": [
    "# after revision, check the integrity...\n",
    "def integrity(img='HD'):\n",
    "    lst_path = os.listdir(path='./CloudImg/'+img)\n",
    "    lst_path = sorted([re.search(r'\\d{4}_\\d{2}_\\d{2}_\\d{2}', i).group() for i in lst_path if i != '.ipynb_checkpoints'])\n",
    "    lst_path = [i.split('_') for i in lst_path]\n",
    "    lst_path = pd.DataFrame(lst_path)\n",
    "    #print(lst_path)\n",
    "    \n",
    "    days = lst_path[2].nunique()\n",
    "    #print(days)\n",
    "\n",
    "    print(sum(lst_path.groupby([2]).count()[3]==24) == days)"
   ]
  },
  {
   "cell_type": "code",
   "execution_count": 7,
   "metadata": {},
   "outputs": [
    {
     "name": "stdout",
     "output_type": "stream",
     "text": [
      "True\n"
     ]
    }
   ],
   "source": [
    "integrity()"
   ]
  },
  {
   "cell_type": "code",
   "execution_count": null,
   "metadata": {},
   "outputs": [],
   "source": [
    "'''\n",
    "satellite-water-vapor-10min\n",
    "\n",
    "lack of hours:\n",
    " ['2017_01_05_19', '2017_01_06_7', '2017_01_11_6', '2017_01_22_21', '2017_01_22_23']\n",
    "\n",
    "repeated hours:\n",
    " ['2017_01_05_18', '2017_01_06_06', '2017_01_11_05', '2017_01_22_20']\n",
    "\n",
    "================================================================================\n",
    "Top alert (every 10min)\n",
    "\n",
    "lack of hours:\n",
    " ['2017_01_05_19', '2017_01_06_7', '2017_01_11_4', '2017_01_11_5', '2017_01_11_7', '2017_01_15_6', '2017_01_20_20', '2017_01_22_21', '2017_01_22_23', '2017_01_23_0', '2017_01_27_19', '2017_01_29_12', '2017_01_30_12']\n",
    "\n",
    "repeated hours:\n",
    " ['2017_01_05_18', '2017_01_06_06', '2017_01_11_03', '2017_01_11_06', '2017_01_11_06', '2017_01_22_20']\n",
    "\n",
    "================================================================================\n",
    "HD (every 10min)\n",
    "\n",
    "lack of hours:\n",
    " ['2017_01_01_0', '2017_01_05_19', '2017_01_06_7', '2017_01_10_21', '2017_01_11_4', '2017_01_11_7', '2017_01_16_8', '2017_01_18_6', '2017_01_22_21', '2017_01_23_18', '2017_01_25_13', '2017_01_29_7', '2017_01_29_16']\n",
    "\n",
    "repeated hours:\n",
    " ['2017_01_05_18', '2017_01_06_06', '2017_01_11_03', '2017_01_11_05', '2017_01_22_20']\n",
    "\n",
    "================================================================================\n",
    "'''"
   ]
  }
 ],
 "metadata": {
  "kernelspec": {
   "display_name": "Python 3",
   "language": "python",
   "name": "python3"
  },
  "language_info": {
   "codemirror_mode": {
    "name": "ipython",
    "version": 3
   },
   "file_extension": ".py",
   "mimetype": "text/x-python",
   "name": "python",
   "nbconvert_exporter": "python",
   "pygments_lexer": "ipython3",
   "version": "3.7.3"
  }
 },
 "nbformat": 4,
 "nbformat_minor": 4
}
